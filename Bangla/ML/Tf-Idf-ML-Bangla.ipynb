{
 "cells": [
  {
   "cell_type": "code",
   "execution_count": 1,
   "id": "0356e1cf",
   "metadata": {},
   "outputs": [],
   "source": [
    "import pandas as pd\n",
    "import numpy as np\n",
    "from matplotlib import pyplot as plt\n",
    "import seaborn as sns\n",
    "import math"
   ]
  },
  {
   "cell_type": "code",
   "execution_count": 2,
   "id": "7b6a9335",
   "metadata": {},
   "outputs": [],
   "source": [
    "df = pd.read_csv('Bengali_Banglish_80K_Dataset.csv')"
   ]
  },
  {
   "cell_type": "code",
   "execution_count": 3,
   "id": "136eda95",
   "metadata": {},
   "outputs": [
    {
     "data": {
      "text/plain": [
       "<bound method NDFrame.head of                                                  Bengali     Label  \\\n",
       "0      এখানে কাওকে কবর দিয়ো না তাহলে তোমাদের পরিবারের...      fear   \n",
       "1      কিন্ত ভয় কিসের থেকে আমি জানতামনা কিন্ত আমার মন...      fear   \n",
       "2      করোনাভাইরাস থেকে সৃষ্ট রোগ কভিড১৯ বিশ্বব্যাপী ...      fear   \n",
       "3      চিতাও তার দিকে এগোতে সাহস পাচ্ছে না দুদিনের অন...      fear   \n",
       "4      রানী মেরি টিউডরের প্রেতাত্মা এটাআজ চেষ্টা করলা...      fear   \n",
       "...                                                  ...       ...   \n",
       "80093  কী ম্যাচিউর একটা কাজ! আশফাক নিপুনরা আছে বলেই এ...   disgust   \n",
       "80094  সত্যটা কি সেটা আসলে জান্তে পারলাম না । আর পুরা...  surprise   \n",
       "80095  এভাবেই পুরুষেরা পার পেয়ে যায়।কিন্তু তাদের চোখে...  surprise   \n",
       "80096  যদিও আফরান নিশু বস আছে বসের নাটক বাদ দেয় না তা...   disgust   \n",
       "80097  নাটক বলে এগুলা কে রহস্য মুভির স্বাদ পেলাম আর অ...  surprise   \n",
       "\n",
       "                                                Banglish  \n",
       "0      ekhane kaoke kobor diyo na tahole tomader pori...  \n",
       "1      kinto voy kiser theke ami jantamna kinto amar ...  \n",
       "2      kronavairas theke srishto rog covid 19 bishbob...  \n",
       "3      citao tar dike egote sahosh pacche na dudiner ...  \n",
       "4      rani meri tiudrer pretatma etaaj ceshta korlam...  \n",
       "...                                                  ...  \n",
       "80093  ki mjaciur ekta kaj! ashfak nipunra ache bolei...  \n",
       "80094  sotjta ki sheta asle jante parlam na . ar pura...  \n",
       "80095  evabei purushera paro peye jay.kintu tader cok...  \n",
       "80096  jdio afran nishu bos ache boser natok bad dey ...  \n",
       "80097  natok bole egula ke rohossho muvir sbad pelam ...  \n",
       "\n",
       "[80098 rows x 3 columns]>"
      ]
     },
     "execution_count": 3,
     "metadata": {},
     "output_type": "execute_result"
    }
   ],
   "source": [
    "df.head"
   ]
  },
  {
   "cell_type": "code",
   "execution_count": 4,
   "id": "caecabfd",
   "metadata": {},
   "outputs": [
    {
     "data": {
      "text/html": [
       "<div>\n",
       "<style scoped>\n",
       "    .dataframe tbody tr th:only-of-type {\n",
       "        vertical-align: middle;\n",
       "    }\n",
       "\n",
       "    .dataframe tbody tr th {\n",
       "        vertical-align: top;\n",
       "    }\n",
       "\n",
       "    .dataframe thead tr th {\n",
       "        text-align: left;\n",
       "    }\n",
       "\n",
       "    .dataframe thead tr:last-of-type th {\n",
       "        text-align: right;\n",
       "    }\n",
       "</style>\n",
       "<table border=\"1\" class=\"dataframe\">\n",
       "  <thead>\n",
       "    <tr>\n",
       "      <th></th>\n",
       "      <th colspan=\"4\" halign=\"left\">Bengali</th>\n",
       "      <th colspan=\"4\" halign=\"left\">Banglish</th>\n",
       "    </tr>\n",
       "    <tr>\n",
       "      <th></th>\n",
       "      <th>count</th>\n",
       "      <th>unique</th>\n",
       "      <th>top</th>\n",
       "      <th>freq</th>\n",
       "      <th>count</th>\n",
       "      <th>unique</th>\n",
       "      <th>top</th>\n",
       "      <th>freq</th>\n",
       "    </tr>\n",
       "    <tr>\n",
       "      <th>Label</th>\n",
       "      <th></th>\n",
       "      <th></th>\n",
       "      <th></th>\n",
       "      <th></th>\n",
       "      <th></th>\n",
       "      <th></th>\n",
       "      <th></th>\n",
       "      <th></th>\n",
       "    </tr>\n",
       "  </thead>\n",
       "  <tbody>\n",
       "    <tr>\n",
       "      <th>anger</th>\n",
       "      <td>15180</td>\n",
       "      <td>15180</td>\n",
       "      <td>নিউ মার্কেট সংঘর্ষের ঘটনাটিকেও রাজনৈতিক রুপ দে...</td>\n",
       "      <td>1</td>\n",
       "      <td>15179</td>\n",
       "      <td>15108</td>\n",
       "      <td>batil kora ucit</td>\n",
       "      <td>3</td>\n",
       "    </tr>\n",
       "    <tr>\n",
       "      <th>disgust</th>\n",
       "      <td>13099</td>\n",
       "      <td>13099</td>\n",
       "      <td>এই ভাবেই আইনের শাষন প্রতিষ্ঠা করেন?</td>\n",
       "      <td>1</td>\n",
       "      <td>13098</td>\n",
       "      <td>13051</td>\n",
       "      <td>kotto boro cor... 15/20 bochor dhore je jontro...</td>\n",
       "      <td>2</td>\n",
       "    </tr>\n",
       "    <tr>\n",
       "      <th>fear</th>\n",
       "      <td>7565</td>\n",
       "      <td>7565</td>\n",
       "      <td>এখানে কাওকে কবর দিয়ো না তাহলে তোমাদের পরিবারের...</td>\n",
       "      <td>1</td>\n",
       "      <td>7565</td>\n",
       "      <td>6997</td>\n",
       "      <td>ekhane kaoke kobor diyo na tahole tomader pori...</td>\n",
       "      <td>2</td>\n",
       "    </tr>\n",
       "    <tr>\n",
       "      <th>joy</th>\n",
       "      <td>17837</td>\n",
       "      <td>17837</td>\n",
       "      <td>হা হা হা হো হো হো হি হি হি পালাবি কোথায় রে কালিয়া</td>\n",
       "      <td>1</td>\n",
       "      <td>17836</td>\n",
       "      <td>17779</td>\n",
       "      <td>ek kothay osadharon</td>\n",
       "      <td>4</td>\n",
       "    </tr>\n",
       "    <tr>\n",
       "      <th>sadness</th>\n",
       "      <td>16310</td>\n",
       "      <td>16310</td>\n",
       "      <td>আখেরি জামানা</td>\n",
       "      <td>1</td>\n",
       "      <td>16309</td>\n",
       "      <td>16252</td>\n",
       "      <td>konodol somarthonkari bjakti sorbojon shrodhdh...</td>\n",
       "      <td>2</td>\n",
       "    </tr>\n",
       "    <tr>\n",
       "      <th>surprise</th>\n",
       "      <td>10107</td>\n",
       "      <td>10107</td>\n",
       "      <td>কেমনে</td>\n",
       "      <td>1</td>\n",
       "      <td>10107</td>\n",
       "      <td>10076</td>\n",
       "      <td>bangla o hindi coloccitre jemon chilen oprihar...</td>\n",
       "      <td>2</td>\n",
       "    </tr>\n",
       "  </tbody>\n",
       "</table>\n",
       "</div>"
      ],
      "text/plain": [
       "         Bengali                                                            \\\n",
       "           count unique                                                top   \n",
       "Label                                                                        \n",
       "anger      15180  15180  নিউ মার্কেট সংঘর্ষের ঘটনাটিকেও রাজনৈতিক রুপ দে...   \n",
       "disgust    13099  13099                এই ভাবেই আইনের শাষন প্রতিষ্ঠা করেন?   \n",
       "fear        7565   7565  এখানে কাওকে কবর দিয়ো না তাহলে তোমাদের পরিবারের...   \n",
       "joy        17837  17837  হা হা হা হো হো হো হি হি হি পালাবি কোথায় রে কালিয়া   \n",
       "sadness    16310  16310                                       আখেরি জামানা   \n",
       "surprise   10107  10107                                              কেমনে   \n",
       "\n",
       "              Banglish         \\\n",
       "         freq    count unique   \n",
       "Label                           \n",
       "anger       1    15179  15108   \n",
       "disgust     1    13098  13051   \n",
       "fear        1     7565   6997   \n",
       "joy         1    17836  17779   \n",
       "sadness     1    16309  16252   \n",
       "surprise    1    10107  10076   \n",
       "\n",
       "                                                                  \n",
       "                                                        top freq  \n",
       "Label                                                             \n",
       "anger                                       batil kora ucit    3  \n",
       "disgust   kotto boro cor... 15/20 bochor dhore je jontro...    2  \n",
       "fear      ekhane kaoke kobor diyo na tahole tomader pori...    2  \n",
       "joy                                     ek kothay osadharon    4  \n",
       "sadness   konodol somarthonkari bjakti sorbojon shrodhdh...    2  \n",
       "surprise  bangla o hindi coloccitre jemon chilen oprihar...    2  "
      ]
     },
     "execution_count": 4,
     "metadata": {},
     "output_type": "execute_result"
    }
   ],
   "source": [
    "df.groupby(\"Label\").describe()"
   ]
  },
  {
   "cell_type": "code",
   "execution_count": 5,
   "id": "6ca6a7fe",
   "metadata": {},
   "outputs": [],
   "source": [
    "from sklearn.feature_extraction.text import CountVectorizer\n",
    "from sklearn.feature_extraction.text import TfidfTransformer\n",
    "from sklearn.preprocessing import LabelBinarizer"
   ]
  },
  {
   "cell_type": "code",
   "execution_count": 6,
   "id": "80dc5abe",
   "metadata": {
    "scrolled": true
   },
   "outputs": [],
   "source": [
    "count_vect = CountVectorizer() # for converting text into count-based vectors\n",
    "tfidf_transformer = TfidfTransformer() # for converting text into tf-idf-based vectors\n",
    "lb = LabelBinarizer() # object for making class-labels into binary numbers"
   ]
  },
  {
   "cell_type": "code",
   "execution_count": 7,
   "id": "9bc17df6",
   "metadata": {},
   "outputs": [
    {
     "data": {
      "text/plain": [
       "Index(['Bengali', 'Label', 'Banglish'], dtype='object')"
      ]
     },
     "execution_count": 7,
     "metadata": {},
     "output_type": "execute_result"
    }
   ],
   "source": [
    "df.columns"
   ]
  },
  {
   "cell_type": "code",
   "execution_count": 8,
   "id": "a710a6cb",
   "metadata": {
    "scrolled": true
   },
   "outputs": [
    {
     "data": {
      "text/plain": [
       "<bound method NDFrame.head of                                                  Bengali     Label  \\\n",
       "0      এখানে কাওকে কবর দিয়ো না তাহলে তোমাদের পরিবারের...      fear   \n",
       "1      কিন্ত ভয় কিসের থেকে আমি জানতামনা কিন্ত আমার মন...      fear   \n",
       "2      করোনাভাইরাস থেকে সৃষ্ট রোগ কভিড১৯ বিশ্বব্যাপী ...      fear   \n",
       "3      চিতাও তার দিকে এগোতে সাহস পাচ্ছে না দুদিনের অন...      fear   \n",
       "4      রানী মেরি টিউডরের প্রেতাত্মা এটাআজ চেষ্টা করলা...      fear   \n",
       "...                                                  ...       ...   \n",
       "80093  কী ম্যাচিউর একটা কাজ! আশফাক নিপুনরা আছে বলেই এ...   disgust   \n",
       "80094  সত্যটা কি সেটা আসলে জান্তে পারলাম না । আর পুরা...  surprise   \n",
       "80095  এভাবেই পুরুষেরা পার পেয়ে যায়।কিন্তু তাদের চোখে...  surprise   \n",
       "80096  যদিও আফরান নিশু বস আছে বসের নাটক বাদ দেয় না তা...   disgust   \n",
       "80097  নাটক বলে এগুলা কে রহস্য মুভির স্বাদ পেলাম আর অ...  surprise   \n",
       "\n",
       "                                                Banglish  \n",
       "0      ekhane kaoke kobor diyo na tahole tomader pori...  \n",
       "1      kinto voy kiser theke ami jantamna kinto amar ...  \n",
       "2      kronavairas theke srishto rog covid 19 bishbob...  \n",
       "3      citao tar dike egote sahosh pacche na dudiner ...  \n",
       "4      rani meri tiudrer pretatma etaaj ceshta korlam...  \n",
       "...                                                  ...  \n",
       "80093  ki mjaciur ekta kaj! ashfak nipunra ache bolei...  \n",
       "80094  sotjta ki sheta asle jante parlam na . ar pura...  \n",
       "80095  evabei purushera paro peye jay.kintu tader cok...  \n",
       "80096  jdio afran nishu bos ache boser natok bad dey ...  \n",
       "80097  natok bole egula ke rohossho muvir sbad pelam ...  \n",
       "\n",
       "[80098 rows x 3 columns]>"
      ]
     },
     "execution_count": 8,
     "metadata": {},
     "output_type": "execute_result"
    }
   ],
   "source": [
    "df.head"
   ]
  },
  {
   "cell_type": "code",
   "execution_count": 9,
   "id": "c5a2b583",
   "metadata": {},
   "outputs": [
    {
     "data": {
      "text/html": [
       "<div>\n",
       "<style scoped>\n",
       "    .dataframe tbody tr th:only-of-type {\n",
       "        vertical-align: middle;\n",
       "    }\n",
       "\n",
       "    .dataframe tbody tr th {\n",
       "        vertical-align: top;\n",
       "    }\n",
       "\n",
       "    .dataframe thead th {\n",
       "        text-align: right;\n",
       "    }\n",
       "</style>\n",
       "<table border=\"1\" class=\"dataframe\">\n",
       "  <thead>\n",
       "    <tr style=\"text-align: right;\">\n",
       "      <th></th>\n",
       "      <th>classes_bin</th>\n",
       "      <th>Label</th>\n",
       "    </tr>\n",
       "  </thead>\n",
       "  <tbody>\n",
       "    <tr>\n",
       "      <th>0</th>\n",
       "      <td>2</td>\n",
       "      <td>fear</td>\n",
       "    </tr>\n",
       "    <tr>\n",
       "      <th>1</th>\n",
       "      <td>2</td>\n",
       "      <td>fear</td>\n",
       "    </tr>\n",
       "    <tr>\n",
       "      <th>2</th>\n",
       "      <td>2</td>\n",
       "      <td>fear</td>\n",
       "    </tr>\n",
       "    <tr>\n",
       "      <th>3</th>\n",
       "      <td>2</td>\n",
       "      <td>fear</td>\n",
       "    </tr>\n",
       "    <tr>\n",
       "      <th>4</th>\n",
       "      <td>2</td>\n",
       "      <td>fear</td>\n",
       "    </tr>\n",
       "    <tr>\n",
       "      <th>5</th>\n",
       "      <td>2</td>\n",
       "      <td>fear</td>\n",
       "    </tr>\n",
       "    <tr>\n",
       "      <th>6</th>\n",
       "      <td>2</td>\n",
       "      <td>fear</td>\n",
       "    </tr>\n",
       "    <tr>\n",
       "      <th>7</th>\n",
       "      <td>2</td>\n",
       "      <td>fear</td>\n",
       "    </tr>\n",
       "    <tr>\n",
       "      <th>8</th>\n",
       "      <td>2</td>\n",
       "      <td>fear</td>\n",
       "    </tr>\n",
       "    <tr>\n",
       "      <th>9</th>\n",
       "      <td>2</td>\n",
       "      <td>fear</td>\n",
       "    </tr>\n",
       "    <tr>\n",
       "      <th>10</th>\n",
       "      <td>2</td>\n",
       "      <td>fear</td>\n",
       "    </tr>\n",
       "  </tbody>\n",
       "</table>\n",
       "</div>"
      ],
      "text/plain": [
       "    classes_bin Label\n",
       "0             2  fear\n",
       "1             2  fear\n",
       "2             2  fear\n",
       "3             2  fear\n",
       "4             2  fear\n",
       "5             2  fear\n",
       "6             2  fear\n",
       "7             2  fear\n",
       "8             2  fear\n",
       "9             2  fear\n",
       "10            2  fear"
      ]
     },
     "execution_count": 9,
     "metadata": {},
     "output_type": "execute_result"
    }
   ],
   "source": [
    "from sklearn.preprocessing import LabelEncoder\n",
    "\n",
    "lb_make = LabelEncoder()\n",
    "df[\"classes_bin\"] = lb_make.fit_transform(df[\"Label\"])\n",
    "df[[\"classes_bin\", \"Label\"]].head(11)"
   ]
  },
  {
   "cell_type": "code",
   "execution_count": 10,
   "id": "fffdfff2",
   "metadata": {},
   "outputs": [
    {
     "data": {
      "text/html": [
       "<div>\n",
       "<style scoped>\n",
       "    .dataframe tbody tr th:only-of-type {\n",
       "        vertical-align: middle;\n",
       "    }\n",
       "\n",
       "    .dataframe tbody tr th {\n",
       "        vertical-align: top;\n",
       "    }\n",
       "\n",
       "    .dataframe thead th {\n",
       "        text-align: right;\n",
       "    }\n",
       "</style>\n",
       "<table border=\"1\" class=\"dataframe\">\n",
       "  <thead>\n",
       "    <tr style=\"text-align: right;\">\n",
       "      <th></th>\n",
       "      <th>Bengali</th>\n",
       "      <th>Label</th>\n",
       "      <th>Banglish</th>\n",
       "      <th>classes_bin</th>\n",
       "    </tr>\n",
       "  </thead>\n",
       "  <tbody>\n",
       "    <tr>\n",
       "      <th>0</th>\n",
       "      <td>এখানে কাওকে কবর দিয়ো না তাহলে তোমাদের পরিবারের...</td>\n",
       "      <td>fear</td>\n",
       "      <td>ekhane kaoke kobor diyo na tahole tomader pori...</td>\n",
       "      <td>2</td>\n",
       "    </tr>\n",
       "    <tr>\n",
       "      <th>1</th>\n",
       "      <td>কিন্ত ভয় কিসের থেকে আমি জানতামনা কিন্ত আমার মন...</td>\n",
       "      <td>fear</td>\n",
       "      <td>kinto voy kiser theke ami jantamna kinto amar ...</td>\n",
       "      <td>2</td>\n",
       "    </tr>\n",
       "    <tr>\n",
       "      <th>2</th>\n",
       "      <td>করোনাভাইরাস থেকে সৃষ্ট রোগ কভিড১৯ বিশ্বব্যাপী ...</td>\n",
       "      <td>fear</td>\n",
       "      <td>kronavairas theke srishto rog covid 19 bishbob...</td>\n",
       "      <td>2</td>\n",
       "    </tr>\n",
       "    <tr>\n",
       "      <th>3</th>\n",
       "      <td>চিতাও তার দিকে এগোতে সাহস পাচ্ছে না দুদিনের অন...</td>\n",
       "      <td>fear</td>\n",
       "      <td>citao tar dike egote sahosh pacche na dudiner ...</td>\n",
       "      <td>2</td>\n",
       "    </tr>\n",
       "    <tr>\n",
       "      <th>4</th>\n",
       "      <td>রানী মেরি টিউডরের প্রেতাত্মা এটাআজ চেষ্টা করলা...</td>\n",
       "      <td>fear</td>\n",
       "      <td>rani meri tiudrer pretatma etaaj ceshta korlam...</td>\n",
       "      <td>2</td>\n",
       "    </tr>\n",
       "    <tr>\n",
       "      <th>...</th>\n",
       "      <td>...</td>\n",
       "      <td>...</td>\n",
       "      <td>...</td>\n",
       "      <td>...</td>\n",
       "    </tr>\n",
       "    <tr>\n",
       "      <th>80093</th>\n",
       "      <td>কী ম্যাচিউর একটা কাজ! আশফাক নিপুনরা আছে বলেই এ...</td>\n",
       "      <td>disgust</td>\n",
       "      <td>ki mjaciur ekta kaj! ashfak nipunra ache bolei...</td>\n",
       "      <td>1</td>\n",
       "    </tr>\n",
       "    <tr>\n",
       "      <th>80094</th>\n",
       "      <td>সত্যটা কি সেটা আসলে জান্তে পারলাম না । আর পুরা...</td>\n",
       "      <td>surprise</td>\n",
       "      <td>sotjta ki sheta asle jante parlam na . ar pura...</td>\n",
       "      <td>5</td>\n",
       "    </tr>\n",
       "    <tr>\n",
       "      <th>80095</th>\n",
       "      <td>এভাবেই পুরুষেরা পার পেয়ে যায়।কিন্তু তাদের চোখে...</td>\n",
       "      <td>surprise</td>\n",
       "      <td>evabei purushera paro peye jay.kintu tader cok...</td>\n",
       "      <td>5</td>\n",
       "    </tr>\n",
       "    <tr>\n",
       "      <th>80096</th>\n",
       "      <td>যদিও আফরান নিশু বস আছে বসের নাটক বাদ দেয় না তা...</td>\n",
       "      <td>disgust</td>\n",
       "      <td>jdio afran nishu bos ache boser natok bad dey ...</td>\n",
       "      <td>1</td>\n",
       "    </tr>\n",
       "    <tr>\n",
       "      <th>80097</th>\n",
       "      <td>নাটক বলে এগুলা কে রহস্য মুভির স্বাদ পেলাম আর অ...</td>\n",
       "      <td>surprise</td>\n",
       "      <td>natok bole egula ke rohossho muvir sbad pelam ...</td>\n",
       "      <td>5</td>\n",
       "    </tr>\n",
       "  </tbody>\n",
       "</table>\n",
       "<p>80098 rows × 4 columns</p>\n",
       "</div>"
      ],
      "text/plain": [
       "                                                 Bengali     Label  \\\n",
       "0      এখানে কাওকে কবর দিয়ো না তাহলে তোমাদের পরিবারের...      fear   \n",
       "1      কিন্ত ভয় কিসের থেকে আমি জানতামনা কিন্ত আমার মন...      fear   \n",
       "2      করোনাভাইরাস থেকে সৃষ্ট রোগ কভিড১৯ বিশ্বব্যাপী ...      fear   \n",
       "3      চিতাও তার দিকে এগোতে সাহস পাচ্ছে না দুদিনের অন...      fear   \n",
       "4      রানী মেরি টিউডরের প্রেতাত্মা এটাআজ চেষ্টা করলা...      fear   \n",
       "...                                                  ...       ...   \n",
       "80093  কী ম্যাচিউর একটা কাজ! আশফাক নিপুনরা আছে বলেই এ...   disgust   \n",
       "80094  সত্যটা কি সেটা আসলে জান্তে পারলাম না । আর পুরা...  surprise   \n",
       "80095  এভাবেই পুরুষেরা পার পেয়ে যায়।কিন্তু তাদের চোখে...  surprise   \n",
       "80096  যদিও আফরান নিশু বস আছে বসের নাটক বাদ দেয় না তা...   disgust   \n",
       "80097  নাটক বলে এগুলা কে রহস্য মুভির স্বাদ পেলাম আর অ...  surprise   \n",
       "\n",
       "                                                Banglish  classes_bin  \n",
       "0      ekhane kaoke kobor diyo na tahole tomader pori...            2  \n",
       "1      kinto voy kiser theke ami jantamna kinto amar ...            2  \n",
       "2      kronavairas theke srishto rog covid 19 bishbob...            2  \n",
       "3      citao tar dike egote sahosh pacche na dudiner ...            2  \n",
       "4      rani meri tiudrer pretatma etaaj ceshta korlam...            2  \n",
       "...                                                  ...          ...  \n",
       "80093  ki mjaciur ekta kaj! ashfak nipunra ache bolei...            1  \n",
       "80094  sotjta ki sheta asle jante parlam na . ar pura...            5  \n",
       "80095  evabei purushera paro peye jay.kintu tader cok...            5  \n",
       "80096  jdio afran nishu bos ache boser natok bad dey ...            1  \n",
       "80097  natok bole egula ke rohossho muvir sbad pelam ...            5  \n",
       "\n",
       "[80098 rows x 4 columns]"
      ]
     },
     "execution_count": 10,
     "metadata": {},
     "output_type": "execute_result"
    }
   ],
   "source": [
    "df"
   ]
  },
  {
   "cell_type": "code",
   "execution_count": 11,
   "id": "12f3da68",
   "metadata": {
    "scrolled": true
   },
   "outputs": [
    {
     "data": {
      "text/html": [
       "<div>\n",
       "<style scoped>\n",
       "    .dataframe tbody tr th:only-of-type {\n",
       "        vertical-align: middle;\n",
       "    }\n",
       "\n",
       "    .dataframe tbody tr th {\n",
       "        vertical-align: top;\n",
       "    }\n",
       "\n",
       "    .dataframe thead th {\n",
       "        text-align: right;\n",
       "    }\n",
       "</style>\n",
       "<table border=\"1\" class=\"dataframe\">\n",
       "  <thead>\n",
       "    <tr style=\"text-align: right;\">\n",
       "      <th></th>\n",
       "      <th>Bengali</th>\n",
       "      <th>Label</th>\n",
       "      <th>Banglish</th>\n",
       "      <th>classes_bin</th>\n",
       "    </tr>\n",
       "  </thead>\n",
       "  <tbody>\n",
       "    <tr>\n",
       "      <th>0</th>\n",
       "      <td>False</td>\n",
       "      <td>False</td>\n",
       "      <td>False</td>\n",
       "      <td>False</td>\n",
       "    </tr>\n",
       "    <tr>\n",
       "      <th>1</th>\n",
       "      <td>False</td>\n",
       "      <td>False</td>\n",
       "      <td>False</td>\n",
       "      <td>False</td>\n",
       "    </tr>\n",
       "    <tr>\n",
       "      <th>2</th>\n",
       "      <td>False</td>\n",
       "      <td>False</td>\n",
       "      <td>False</td>\n",
       "      <td>False</td>\n",
       "    </tr>\n",
       "    <tr>\n",
       "      <th>3</th>\n",
       "      <td>False</td>\n",
       "      <td>False</td>\n",
       "      <td>False</td>\n",
       "      <td>False</td>\n",
       "    </tr>\n",
       "    <tr>\n",
       "      <th>4</th>\n",
       "      <td>False</td>\n",
       "      <td>False</td>\n",
       "      <td>False</td>\n",
       "      <td>False</td>\n",
       "    </tr>\n",
       "    <tr>\n",
       "      <th>...</th>\n",
       "      <td>...</td>\n",
       "      <td>...</td>\n",
       "      <td>...</td>\n",
       "      <td>...</td>\n",
       "    </tr>\n",
       "    <tr>\n",
       "      <th>80093</th>\n",
       "      <td>False</td>\n",
       "      <td>False</td>\n",
       "      <td>False</td>\n",
       "      <td>False</td>\n",
       "    </tr>\n",
       "    <tr>\n",
       "      <th>80094</th>\n",
       "      <td>False</td>\n",
       "      <td>False</td>\n",
       "      <td>False</td>\n",
       "      <td>False</td>\n",
       "    </tr>\n",
       "    <tr>\n",
       "      <th>80095</th>\n",
       "      <td>False</td>\n",
       "      <td>False</td>\n",
       "      <td>False</td>\n",
       "      <td>False</td>\n",
       "    </tr>\n",
       "    <tr>\n",
       "      <th>80096</th>\n",
       "      <td>False</td>\n",
       "      <td>False</td>\n",
       "      <td>False</td>\n",
       "      <td>False</td>\n",
       "    </tr>\n",
       "    <tr>\n",
       "      <th>80097</th>\n",
       "      <td>False</td>\n",
       "      <td>False</td>\n",
       "      <td>False</td>\n",
       "      <td>False</td>\n",
       "    </tr>\n",
       "  </tbody>\n",
       "</table>\n",
       "<p>80098 rows × 4 columns</p>\n",
       "</div>"
      ],
      "text/plain": [
       "       Bengali  Label  Banglish  classes_bin\n",
       "0        False  False     False        False\n",
       "1        False  False     False        False\n",
       "2        False  False     False        False\n",
       "3        False  False     False        False\n",
       "4        False  False     False        False\n",
       "...        ...    ...       ...          ...\n",
       "80093    False  False     False        False\n",
       "80094    False  False     False        False\n",
       "80095    False  False     False        False\n",
       "80096    False  False     False        False\n",
       "80097    False  False     False        False\n",
       "\n",
       "[80098 rows x 4 columns]"
      ]
     },
     "execution_count": 11,
     "metadata": {},
     "output_type": "execute_result"
    }
   ],
   "source": [
    "df.isnull()"
   ]
  },
  {
   "cell_type": "code",
   "execution_count": 12,
   "id": "6416bc9d",
   "metadata": {},
   "outputs": [],
   "source": [
    "df.dropna(inplace=True)"
   ]
  },
  {
   "cell_type": "code",
   "execution_count": 13,
   "id": "9fc7e0ac",
   "metadata": {},
   "outputs": [
    {
     "data": {
      "text/html": [
       "<div>\n",
       "<style scoped>\n",
       "    .dataframe tbody tr th:only-of-type {\n",
       "        vertical-align: middle;\n",
       "    }\n",
       "\n",
       "    .dataframe tbody tr th {\n",
       "        vertical-align: top;\n",
       "    }\n",
       "\n",
       "    .dataframe thead th {\n",
       "        text-align: right;\n",
       "    }\n",
       "</style>\n",
       "<table border=\"1\" class=\"dataframe\">\n",
       "  <thead>\n",
       "    <tr style=\"text-align: right;\">\n",
       "      <th></th>\n",
       "      <th>Bengali</th>\n",
       "      <th>Label</th>\n",
       "      <th>Banglish</th>\n",
       "      <th>classes_bin</th>\n",
       "    </tr>\n",
       "  </thead>\n",
       "  <tbody>\n",
       "    <tr>\n",
       "      <th>0</th>\n",
       "      <td>এখানে কাওকে কবর দিয়ো না তাহলে তোমাদের পরিবারের...</td>\n",
       "      <td>fear</td>\n",
       "      <td>ekhane kaoke kobor diyo na tahole tomader pori...</td>\n",
       "      <td>2</td>\n",
       "    </tr>\n",
       "    <tr>\n",
       "      <th>1</th>\n",
       "      <td>কিন্ত ভয় কিসের থেকে আমি জানতামনা কিন্ত আমার মন...</td>\n",
       "      <td>fear</td>\n",
       "      <td>kinto voy kiser theke ami jantamna kinto amar ...</td>\n",
       "      <td>2</td>\n",
       "    </tr>\n",
       "    <tr>\n",
       "      <th>2</th>\n",
       "      <td>করোনাভাইরাস থেকে সৃষ্ট রোগ কভিড১৯ বিশ্বব্যাপী ...</td>\n",
       "      <td>fear</td>\n",
       "      <td>kronavairas theke srishto rog covid 19 bishbob...</td>\n",
       "      <td>2</td>\n",
       "    </tr>\n",
       "    <tr>\n",
       "      <th>3</th>\n",
       "      <td>চিতাও তার দিকে এগোতে সাহস পাচ্ছে না দুদিনের অন...</td>\n",
       "      <td>fear</td>\n",
       "      <td>citao tar dike egote sahosh pacche na dudiner ...</td>\n",
       "      <td>2</td>\n",
       "    </tr>\n",
       "    <tr>\n",
       "      <th>4</th>\n",
       "      <td>রানী মেরি টিউডরের প্রেতাত্মা এটাআজ চেষ্টা করলা...</td>\n",
       "      <td>fear</td>\n",
       "      <td>rani meri tiudrer pretatma etaaj ceshta korlam...</td>\n",
       "      <td>2</td>\n",
       "    </tr>\n",
       "    <tr>\n",
       "      <th>...</th>\n",
       "      <td>...</td>\n",
       "      <td>...</td>\n",
       "      <td>...</td>\n",
       "      <td>...</td>\n",
       "    </tr>\n",
       "    <tr>\n",
       "      <th>80093</th>\n",
       "      <td>কী ম্যাচিউর একটা কাজ! আশফাক নিপুনরা আছে বলেই এ...</td>\n",
       "      <td>disgust</td>\n",
       "      <td>ki mjaciur ekta kaj! ashfak nipunra ache bolei...</td>\n",
       "      <td>1</td>\n",
       "    </tr>\n",
       "    <tr>\n",
       "      <th>80094</th>\n",
       "      <td>সত্যটা কি সেটা আসলে জান্তে পারলাম না । আর পুরা...</td>\n",
       "      <td>surprise</td>\n",
       "      <td>sotjta ki sheta asle jante parlam na . ar pura...</td>\n",
       "      <td>5</td>\n",
       "    </tr>\n",
       "    <tr>\n",
       "      <th>80095</th>\n",
       "      <td>এভাবেই পুরুষেরা পার পেয়ে যায়।কিন্তু তাদের চোখে...</td>\n",
       "      <td>surprise</td>\n",
       "      <td>evabei purushera paro peye jay.kintu tader cok...</td>\n",
       "      <td>5</td>\n",
       "    </tr>\n",
       "    <tr>\n",
       "      <th>80096</th>\n",
       "      <td>যদিও আফরান নিশু বস আছে বসের নাটক বাদ দেয় না তা...</td>\n",
       "      <td>disgust</td>\n",
       "      <td>jdio afran nishu bos ache boser natok bad dey ...</td>\n",
       "      <td>1</td>\n",
       "    </tr>\n",
       "    <tr>\n",
       "      <th>80097</th>\n",
       "      <td>নাটক বলে এগুলা কে রহস্য মুভির স্বাদ পেলাম আর অ...</td>\n",
       "      <td>surprise</td>\n",
       "      <td>natok bole egula ke rohossho muvir sbad pelam ...</td>\n",
       "      <td>5</td>\n",
       "    </tr>\n",
       "  </tbody>\n",
       "</table>\n",
       "<p>80094 rows × 4 columns</p>\n",
       "</div>"
      ],
      "text/plain": [
       "                                                 Bengali     Label  \\\n",
       "0      এখানে কাওকে কবর দিয়ো না তাহলে তোমাদের পরিবারের...      fear   \n",
       "1      কিন্ত ভয় কিসের থেকে আমি জানতামনা কিন্ত আমার মন...      fear   \n",
       "2      করোনাভাইরাস থেকে সৃষ্ট রোগ কভিড১৯ বিশ্বব্যাপী ...      fear   \n",
       "3      চিতাও তার দিকে এগোতে সাহস পাচ্ছে না দুদিনের অন...      fear   \n",
       "4      রানী মেরি টিউডরের প্রেতাত্মা এটাআজ চেষ্টা করলা...      fear   \n",
       "...                                                  ...       ...   \n",
       "80093  কী ম্যাচিউর একটা কাজ! আশফাক নিপুনরা আছে বলেই এ...   disgust   \n",
       "80094  সত্যটা কি সেটা আসলে জান্তে পারলাম না । আর পুরা...  surprise   \n",
       "80095  এভাবেই পুরুষেরা পার পেয়ে যায়।কিন্তু তাদের চোখে...  surprise   \n",
       "80096  যদিও আফরান নিশু বস আছে বসের নাটক বাদ দেয় না তা...   disgust   \n",
       "80097  নাটক বলে এগুলা কে রহস্য মুভির স্বাদ পেলাম আর অ...  surprise   \n",
       "\n",
       "                                                Banglish  classes_bin  \n",
       "0      ekhane kaoke kobor diyo na tahole tomader pori...            2  \n",
       "1      kinto voy kiser theke ami jantamna kinto amar ...            2  \n",
       "2      kronavairas theke srishto rog covid 19 bishbob...            2  \n",
       "3      citao tar dike egote sahosh pacche na dudiner ...            2  \n",
       "4      rani meri tiudrer pretatma etaaj ceshta korlam...            2  \n",
       "...                                                  ...          ...  \n",
       "80093  ki mjaciur ekta kaj! ashfak nipunra ache bolei...            1  \n",
       "80094  sotjta ki sheta asle jante parlam na . ar pura...            5  \n",
       "80095  evabei purushera paro peye jay.kintu tader cok...            5  \n",
       "80096  jdio afran nishu bos ache boser natok bad dey ...            1  \n",
       "80097  natok bole egula ke rohossho muvir sbad pelam ...            5  \n",
       "\n",
       "[80094 rows x 4 columns]"
      ]
     },
     "execution_count": 13,
     "metadata": {},
     "output_type": "execute_result"
    }
   ],
   "source": [
    "df"
   ]
  },
  {
   "cell_type": "code",
   "execution_count": 14,
   "id": "23fbb740",
   "metadata": {},
   "outputs": [],
   "source": [
    "text = df['Bengali'].values.tolist()"
   ]
  },
  {
   "cell_type": "code",
   "execution_count": 15,
   "id": "73914a34",
   "metadata": {},
   "outputs": [
    {
     "data": {
      "text/html": [
       "<div>\n",
       "<style scoped>\n",
       "    .dataframe tbody tr th:only-of-type {\n",
       "        vertical-align: middle;\n",
       "    }\n",
       "\n",
       "    .dataframe tbody tr th {\n",
       "        vertical-align: top;\n",
       "    }\n",
       "\n",
       "    .dataframe thead tr th {\n",
       "        text-align: left;\n",
       "    }\n",
       "\n",
       "    .dataframe thead tr:last-of-type th {\n",
       "        text-align: right;\n",
       "    }\n",
       "</style>\n",
       "<table border=\"1\" class=\"dataframe\">\n",
       "  <thead>\n",
       "    <tr>\n",
       "      <th></th>\n",
       "      <th colspan=\"8\" halign=\"left\">classes_bin</th>\n",
       "    </tr>\n",
       "    <tr>\n",
       "      <th></th>\n",
       "      <th>count</th>\n",
       "      <th>mean</th>\n",
       "      <th>std</th>\n",
       "      <th>min</th>\n",
       "      <th>25%</th>\n",
       "      <th>50%</th>\n",
       "      <th>75%</th>\n",
       "      <th>max</th>\n",
       "    </tr>\n",
       "    <tr>\n",
       "      <th>Label</th>\n",
       "      <th></th>\n",
       "      <th></th>\n",
       "      <th></th>\n",
       "      <th></th>\n",
       "      <th></th>\n",
       "      <th></th>\n",
       "      <th></th>\n",
       "      <th></th>\n",
       "    </tr>\n",
       "  </thead>\n",
       "  <tbody>\n",
       "    <tr>\n",
       "      <th>anger</th>\n",
       "      <td>15179.0</td>\n",
       "      <td>0.0</td>\n",
       "      <td>0.0</td>\n",
       "      <td>0.0</td>\n",
       "      <td>0.0</td>\n",
       "      <td>0.0</td>\n",
       "      <td>0.0</td>\n",
       "      <td>0.0</td>\n",
       "    </tr>\n",
       "    <tr>\n",
       "      <th>disgust</th>\n",
       "      <td>13098.0</td>\n",
       "      <td>1.0</td>\n",
       "      <td>0.0</td>\n",
       "      <td>1.0</td>\n",
       "      <td>1.0</td>\n",
       "      <td>1.0</td>\n",
       "      <td>1.0</td>\n",
       "      <td>1.0</td>\n",
       "    </tr>\n",
       "    <tr>\n",
       "      <th>fear</th>\n",
       "      <td>7565.0</td>\n",
       "      <td>2.0</td>\n",
       "      <td>0.0</td>\n",
       "      <td>2.0</td>\n",
       "      <td>2.0</td>\n",
       "      <td>2.0</td>\n",
       "      <td>2.0</td>\n",
       "      <td>2.0</td>\n",
       "    </tr>\n",
       "    <tr>\n",
       "      <th>joy</th>\n",
       "      <td>17836.0</td>\n",
       "      <td>3.0</td>\n",
       "      <td>0.0</td>\n",
       "      <td>3.0</td>\n",
       "      <td>3.0</td>\n",
       "      <td>3.0</td>\n",
       "      <td>3.0</td>\n",
       "      <td>3.0</td>\n",
       "    </tr>\n",
       "    <tr>\n",
       "      <th>sadness</th>\n",
       "      <td>16309.0</td>\n",
       "      <td>4.0</td>\n",
       "      <td>0.0</td>\n",
       "      <td>4.0</td>\n",
       "      <td>4.0</td>\n",
       "      <td>4.0</td>\n",
       "      <td>4.0</td>\n",
       "      <td>4.0</td>\n",
       "    </tr>\n",
       "    <tr>\n",
       "      <th>surprise</th>\n",
       "      <td>10107.0</td>\n",
       "      <td>5.0</td>\n",
       "      <td>0.0</td>\n",
       "      <td>5.0</td>\n",
       "      <td>5.0</td>\n",
       "      <td>5.0</td>\n",
       "      <td>5.0</td>\n",
       "      <td>5.0</td>\n",
       "    </tr>\n",
       "  </tbody>\n",
       "</table>\n",
       "</div>"
      ],
      "text/plain": [
       "         classes_bin                                   \n",
       "               count mean  std  min  25%  50%  75%  max\n",
       "Label                                                  \n",
       "anger        15179.0  0.0  0.0  0.0  0.0  0.0  0.0  0.0\n",
       "disgust      13098.0  1.0  0.0  1.0  1.0  1.0  1.0  1.0\n",
       "fear          7565.0  2.0  0.0  2.0  2.0  2.0  2.0  2.0\n",
       "joy          17836.0  3.0  0.0  3.0  3.0  3.0  3.0  3.0\n",
       "sadness      16309.0  4.0  0.0  4.0  4.0  4.0  4.0  4.0\n",
       "surprise     10107.0  5.0  0.0  5.0  5.0  5.0  5.0  5.0"
      ]
     },
     "execution_count": 15,
     "metadata": {},
     "output_type": "execute_result"
    }
   ],
   "source": [
    "df.groupby(\"Label\").describe()"
   ]
  },
  {
   "cell_type": "code",
   "execution_count": 16,
   "id": "9367651b",
   "metadata": {},
   "outputs": [
    {
     "data": {
      "text/plain": [
       "joy         17836\n",
       "sadness     16309\n",
       "anger       15179\n",
       "disgust     13098\n",
       "surprise    10107\n",
       "fear         7565\n",
       "Name: Label, dtype: int64"
      ]
     },
     "execution_count": 16,
     "metadata": {},
     "output_type": "execute_result"
    }
   ],
   "source": [
    "df[\"Label\"].value_counts()"
   ]
  },
  {
   "cell_type": "code",
   "execution_count": 17,
   "id": "d365e4bd",
   "metadata": {},
   "outputs": [],
   "source": [
    "df['Bengali'] = df['Bengali'].astype(str)"
   ]
  },
  {
   "cell_type": "code",
   "execution_count": 18,
   "id": "b7ffc464",
   "metadata": {},
   "outputs": [],
   "source": [
    "text = df[\"Bengali\"]"
   ]
  },
  {
   "cell_type": "code",
   "execution_count": 19,
   "id": "ec320938",
   "metadata": {
    "scrolled": true
   },
   "outputs": [
    {
     "data": {
      "text/plain": [
       "(80094, 12803)"
      ]
     },
     "execution_count": 19,
     "metadata": {},
     "output_type": "execute_result"
    }
   ],
   "source": [
    "train_counts = count_vect.fit_transform(text) # converting docs into vectors\n",
    "train_tfidf  = train_counts \n",
    "train_tfidf = tfidf_transformer.fit_transform(train_counts) # converting transformed vectors into tf-idf vectors\n",
    "train_tfidf.shape"
   ]
  },
  {
   "cell_type": "code",
   "execution_count": 20,
   "id": "b5ca4e4c",
   "metadata": {},
   "outputs": [],
   "source": [
    "from sklearn.model_selection import train_test_split"
   ]
  },
  {
   "cell_type": "code",
   "execution_count": 21,
   "id": "18282b5d",
   "metadata": {},
   "outputs": [],
   "source": [
    "X_train, X_test, y_train, y_test = train_test_split(train_tfidf, df['classes_bin'], test_size=0.2, random_state=42)\n",
    "\n",
    "Y_pre = df['Label']\n",
    "target_names = list(set(Y_pre))"
   ]
  },
  {
   "cell_type": "code",
   "execution_count": 22,
   "id": "8683a063",
   "metadata": {
    "scrolled": true
   },
   "outputs": [
    {
     "data": {
      "text/plain": [
       "['surprise', 'joy', 'anger', 'sadness', 'disgust', 'fear']"
      ]
     },
     "execution_count": 22,
     "metadata": {},
     "output_type": "execute_result"
    }
   ],
   "source": [
    "target_names"
   ]
  },
  {
   "cell_type": "code",
   "execution_count": 23,
   "id": "81f576ca",
   "metadata": {},
   "outputs": [
    {
     "data": {
      "text/plain": [
       "<64075x12803 sparse matrix of type '<class 'numpy.float64'>'\n",
       "\twith 608792 stored elements in Compressed Sparse Row format>"
      ]
     },
     "execution_count": 23,
     "metadata": {},
     "output_type": "execute_result"
    }
   ],
   "source": [
    "X_train"
   ]
  },
  {
   "cell_type": "code",
   "execution_count": 24,
   "id": "7317b086",
   "metadata": {},
   "outputs": [
    {
     "data": {
      "text/plain": [
       "2652     4\n",
       "30303    4\n",
       "4172     3\n",
       "61031    4\n",
       "63151    3\n",
       "        ..\n",
       "6266     3\n",
       "54887    5\n",
       "76824    1\n",
       "860      2\n",
       "15796    1\n",
       "Name: classes_bin, Length: 64075, dtype: int32"
      ]
     },
     "execution_count": 24,
     "metadata": {},
     "output_type": "execute_result"
    }
   ],
   "source": [
    "y_train"
   ]
  },
  {
   "cell_type": "code",
   "execution_count": 25,
   "id": "8d6fa472",
   "metadata": {},
   "outputs": [],
   "source": [
    "from sklearn.metrics import classification_report\n",
    "from sklearn.metrics import confusion_matrix, accuracy_score\n",
    "from sklearn.model_selection import RandomizedSearchCV "
   ]
  },
  {
   "cell_type": "code",
   "execution_count": 26,
   "id": "3bae7e2d",
   "metadata": {},
   "outputs": [],
   "source": [
    "import seaborn as sn"
   ]
  },
  {
   "cell_type": "markdown",
   "id": "7b679e21",
   "metadata": {},
   "source": [
    "# Naive Bayes"
   ]
  },
  {
   "cell_type": "code",
   "execution_count": 27,
   "id": "98e17d16",
   "metadata": {},
   "outputs": [],
   "source": [
    "from sklearn.naive_bayes import MultinomialNB"
   ]
  },
  {
   "cell_type": "code",
   "execution_count": 28,
   "id": "24f8b525",
   "metadata": {},
   "outputs": [
    {
     "name": "stdout",
     "output_type": "stream",
     "text": [
      "Test set accuracy 0.45202571945814346\n",
      "              precision    recall  f1-score   support\n",
      "\n",
      "    surprise       0.38      0.36      0.37      2965\n",
      "         joy       0.43      0.38      0.41      2636\n",
      "       anger       0.83      0.28      0.42      1479\n",
      "     sadness       0.53      0.67      0.59      3636\n",
      "     disgust       0.36      0.55      0.43      3253\n",
      "        fear       0.74      0.25      0.37      2050\n",
      "\n",
      "    accuracy                           0.45     16019\n",
      "   macro avg       0.54      0.42      0.43     16019\n",
      "weighted avg       0.50      0.45      0.44     16019\n",
      "\n"
     ]
    },
    {
     "data": {
      "image/png": "[encoded data removed]",
      "text/plain": [
       "<Figure size 2200x1200 with 2 Axes>"
      ]
     },
     "metadata": {},
     "output_type": "display_data"
    }
   ],
   "source": [
    "NBclassifer = MultinomialNB()\n",
    "NBclassifer.fit(X_train, y_train)\n",
    "y_pred = NBclassifer.predict(X_test)\n",
    "print('Test set accuracy %s' % accuracy_score(y_test, y_pred))\n",
    "cr = classification_report(y_test, y_pred, target_names=target_names)\n",
    "print(cr)\n",
    "\n",
    "\n",
    "# ------------------------------------------------------------------------------ #\n",
    "\n",
    "cm = confusion_matrix(y_test, y_pred)\n",
    "cm = (cm.T / cm.astype(float).sum(axis=1)).T\n",
    "\n",
    "df_cm = pd.DataFrame(cm, range(len(target_names)), range(len(target_names)))\n",
    "with sn.axes_style(\"white\"):\n",
    "    plt.figure(figsize = (22,12))\n",
    "    ax = sn.heatmap(df_cm, annot=True, xticklabels=target_names, yticklabels=target_names, vmax=1,  cmap=sn.cubehelix_palette(10))\n",
    "    ax.set_xticklabels(ax.get_xticklabels(), rotation=0)\n",
    "    fig = ax.get_figure()\n",
    "  "
   ]
  },
  {
   "cell_type": "markdown",
   "id": "d7b24d1f",
   "metadata": {},
   "source": [
    "# XGBoost"
   ]
  },
  {
   "cell_type": "code",
   "execution_count": 29,
   "id": "59d93989",
   "metadata": {
    "scrolled": true
   },
   "outputs": [],
   "source": [
    "from xgboost import XGBClassifier"
   ]
  },
  {
   "cell_type": "code",
   "execution_count": 30,
   "id": "d24f497a",
   "metadata": {},
   "outputs": [
    {
     "name": "stdout",
     "output_type": "stream",
     "text": [
      "Test set accuracy 0.48292652475185716\n",
      "              precision    recall  f1-score   support\n",
      "\n",
      "    surprise       0.34      0.38      0.36      2965\n",
      "         joy       0.45      0.47      0.46      2636\n",
      "       anger       0.69      0.50      0.58      1479\n",
      "     sadness       0.53      0.69      0.60      3636\n",
      "     disgust       0.47      0.41      0.44      3253\n",
      "        fear       0.59      0.38      0.46      2050\n",
      "\n",
      "    accuracy                           0.48     16019\n",
      "   macro avg       0.51      0.47      0.48     16019\n",
      "weighted avg       0.49      0.48      0.48     16019\n",
      "\n"
     ]
    },
    {
     "data": {
      "image/png": "[encoded data removed]",
      "text/plain": [
       "<Figure size 2200x1200 with 2 Axes>"
      ]
     },
     "metadata": {},
     "output_type": "display_data"
    }
   ],
   "source": [
    "XGBclassifer = XGBClassifier()\n",
    "XGBclassifer.fit(X_train, y_train)\n",
    "y_pred = XGBclassifer.predict(X_test)\n",
    "print('Test set accuracy %s' % accuracy_score(y_test, y_pred))\n",
    "cr = classification_report(y_test, y_pred, target_names=target_names)\n",
    "print(cr)\n",
    "\n",
    "# ------------------------------------------------------------------------------ #\n",
    "\n",
    "cm = confusion_matrix(y_test, y_pred)\n",
    "cm = (cm.T / cm.astype(float).sum(axis=1)).T\n",
    "\n",
    "df_cm = pd.DataFrame(cm, range(len(target_names)), range(len(target_names)))\n",
    "with sn.axes_style(\"white\"):\n",
    "    plt.figure(figsize = (22,12))\n",
    "    ax = sn.heatmap(df_cm, annot=True, xticklabels=target_names, yticklabels=target_names, vmax=1,  cmap=sn.cubehelix_palette(10))\n",
    "    ax.set_xticklabels(ax.get_xticklabels(), rotation=0)\n",
    "    fig = ax.get_figure()\n"
   ]
  },
  {
   "cell_type": "markdown",
   "id": "a70e68cd",
   "metadata": {},
   "source": [
    "# Random Forest"
   ]
  },
  {
   "cell_type": "code",
   "execution_count": 31,
   "id": "c1d9399d",
   "metadata": {},
   "outputs": [],
   "source": [
    "from sklearn.ensemble import RandomForestClassifier"
   ]
  },
  {
   "cell_type": "code",
   "execution_count": 32,
   "id": "91d06868",
   "metadata": {},
   "outputs": [
    {
     "name": "stdout",
     "output_type": "stream",
     "text": [
      "Test set accuracy 0.5003433422810413\n",
      "              precision    recall  f1-score   support\n",
      "\n",
      "    surprise       0.37      0.38      0.38      2965\n",
      "         joy       0.45      0.46      0.45      2636\n",
      "       anger       0.78      0.55      0.64      1479\n",
      "     sadness       0.55      0.66      0.60      3636\n",
      "     disgust       0.45      0.48      0.46      3253\n",
      "        fear       0.66      0.44      0.52      2050\n",
      "\n",
      "    accuracy                           0.50     16019\n",
      "   macro avg       0.54      0.49      0.51     16019\n",
      "weighted avg       0.51      0.50      0.50     16019\n",
      "\n"
     ]
    },
    {
     "data": {
      "image/png": "[encoded data removed]",
      "text/plain": [
       "<Figure size 2200x1200 with 2 Axes>"
      ]
     },
     "metadata": {},
     "output_type": "display_data"
    }
   ],
   "source": [
    "RFclassifer = RandomForestClassifier()\n",
    "shapas = RFclassifer.fit(X_train, y_train)\n",
    "y_pred = RFclassifer.predict(X_test)\n",
    "print('Test set accuracy %s' % accuracy_score(y_test, y_pred))\n",
    "cr = classification_report(y_test, y_pred, target_names=target_names)\n",
    "print(cr)\n",
    "\n",
    "# ------------------------------------------------------------------------------ #\n",
    "\n",
    "cm = confusion_matrix(y_test, y_pred)\n",
    "cm = (cm.T / cm.astype(float).sum(axis=1)).T\n",
    "\n",
    "df_cm = pd.DataFrame(cm, range(len(target_names)), range(len(target_names)))\n",
    "with sn.axes_style(\"white\"):\n",
    "    plt.figure(figsize = (22,12))\n",
    "    ax = sn.heatmap(df_cm, annot=True, xticklabels=target_names, yticklabels=target_names, vmax=1,  cmap=sn.cubehelix_palette(10))\n",
    "    ax.set_xticklabels(ax.get_xticklabels(), rotation=0)\n",
    "    fig = ax.get_figure()\n",
    "  "
   ]
  },
  {
   "cell_type": "code",
   "execution_count": null,
   "id": "3da7f103",
   "metadata": {},
   "outputs": [],
   "source": []
  }
 ],
 "metadata": {
  "kernelspec": {
   "display_name": "Python 3 (ipykernel)",
   "language": "python",
   "name": "python3"
  },
  "language_info": {
   "codemirror_mode": {
    "name": "ipython",
    "version": 3
   },
   "file_extension": ".py",
   "mimetype": "text/x-python",
   "name": "python",
   "nbconvert_exporter": "python",
   "pygments_lexer": "ipython3",
   "version": "3.9.17"
  }
 },
 "nbformat": 4,
 "nbformat_minor": 5
}
